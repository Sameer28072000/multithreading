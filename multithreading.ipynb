{
 "cells": [
  {
   "cell_type": "markdown",
   "id": "318aaa5b-4da4-4f1f-a52c-f0037372f67e",
   "metadata": {},
   "source": [
    "Q1.What is multithreading in python? why is it used? Name the module used to handle threads in python"
   ]
  },
  {
   "cell_type": "code",
   "execution_count": null,
   "id": "71ac79bd-80ae-4e84-a9d9-01af789d425d",
   "metadata": {},
   "outputs": [],
   "source": [
    "Ans:-Multithreading in Python refers to the ability to execute\n",
    "       multiple threads (smaller units of a program) concurrently within a single process.\n",
    "     The module used to handle threads in Python is called threading. \n",
    "         It provides a high-level interface for creating and managing threads. "
   ]
  },
  {
   "cell_type": "markdown",
   "id": "b13eb36e-cfd8-472c-8ab4-8254b0679d7f",
   "metadata": {},
   "source": [
    "Q2.Why threading module used? rite the use of the following functions\n",
    "i.activeCount()\n",
    "ii.currentThread()\n",
    "iii.enumerate()"
   ]
  },
  {
   "cell_type": "code",
   "execution_count": null,
   "id": "919f0871-b982-41cc-8528-d35f23d82e6b",
   "metadata": {},
   "outputs": [],
   "source": [
    "Ans:-\n",
    "     The threading module in Python is used for creating and managing threads.\n",
    "    \n",
    "    i. activeCount(): This function is used to retrieve the number of Thread objects currently alive.\n",
    "                         This function is called as threading.activeCount().\n",
    "    ii.currentThread(): This function returns the current Thread object, corresponding to the callers thread of execution.\n",
    "                            This function is called as threading.currentThread().\n",
    "    iii.enumerate(): This function returns a list of all Thread objects currently alive. \n",
    "                      This function is called as threading.enumerate().  "
   ]
  },
  {
   "cell_type": "markdown",
   "id": "d0dfcb62-cda3-46f7-9164-eb6dc35d7281",
   "metadata": {},
   "source": [
    "3. Explain the following functions\n",
    "i.run\n",
    "ii.start\n",
    "iii.join\n",
    "iv.isAlive"
   ]
  },
  {
   "cell_type": "code",
   "execution_count": null,
   "id": "1e95e32d-757d-4381-af9d-9216b66b3875",
   "metadata": {},
   "outputs": [],
   "source": [
    "Ans:-These are related to working with threads in python.\n",
    "\n",
    "       i.run(): The run() method is the entry point for the threads activity. \n",
    "                    It is called automatically when the start() method is invoked.\n",
    "         ii.start(): The start() method is used to start a threads activity. \n",
    "                        It initiates the execution of the run() method in a separate thread.\n",
    "            iii.join():  The join() method is used to wait for the thread to complete its execution. \n",
    "                              It blocks the calling thread until the thread whose join() method is called is terminated. \n",
    "                iv.isAlive():  The join() method is used to wait for the thread to complete its execution. \n",
    "                                It blocks the calling thread until the thread whose join() method is called is terminated. "
   ]
  },
  {
   "cell_type": "markdown",
   "id": "f22eb241-1c93-4742-92c9-14d5725a0731",
   "metadata": {},
   "source": [
    "Q4.Write a python program to create two threads. Thread one must print the list of squares and thread\n",
    "two must print the list of cubes."
   ]
  },
  {
   "cell_type": "code",
   "execution_count": 1,
   "id": "6c3ea7dd-7a1d-4ea5-97e8-50ededd7f434",
   "metadata": {},
   "outputs": [
    {
     "name": "stdout",
     "output_type": "stream",
     "text": [
      "Square of 1: 1\n",
      "Square of 2: 4\n",
      "Square of 3: 9\n",
      "Square of 4: 16\n",
      "Square of 5: 25\n",
      "Square of 6: 36\n",
      "Square of 7: 49\n",
      "Square of 8: 64\n",
      "Square of 9: 81\n",
      "Square of 10: 100\n",
      "Cube of 1: 1\n",
      "Cube of 2: 8\n",
      "Cube of 3: 27\n",
      "Cube of 4: 64\n",
      "Cube of 5: 125\n",
      "Cube of 6: 216\n",
      "Cube of 7: 343\n",
      "Cube of 8: 512\n",
      "Cube of 9: 729\n",
      "Cube of 10: 1000\n",
      "Done\n"
     ]
    }
   ],
   "source": [
    "import threading\n",
    "\n",
    "def print_squares():\n",
    "    for i in range(1, 11):\n",
    "        print(f\"Square of {i}: {i*i}\")\n",
    "\n",
    "def print_cubes():\n",
    "    for i in range(1, 11):\n",
    "        print(f\"Cube of {i}: {i*i*i}\")\n",
    "\n",
    "# Create the first thread for printing squares\n",
    "thread1 = threading.Thread(target=print_squares)\n",
    "\n",
    "# Create the second thread for printing cubes\n",
    "thread2 = threading.Thread(target=print_cubes)\n",
    "\n",
    "# Start both threads\n",
    "thread1.start()\n",
    "thread2.start()\n",
    "\n",
    "# Wait for both threads to complete\n",
    "thread1.join()\n",
    "thread2.join()\n",
    "\n",
    "print(\"Done\")"
   ]
  },
  {
   "cell_type": "markdown",
   "id": "e018d175-e312-451b-a10e-1e0d1d565508",
   "metadata": {},
   "source": [
    "Q5.State advantages and disadvantages of multithreading?"
   ]
  },
  {
   "cell_type": "code",
   "execution_count": null,
   "id": "ecb60629-459d-4c98-8706-9e784f75c584",
   "metadata": {},
   "outputs": [],
   "source": [
    "Ans:- Advantages of Multitreading:-\n",
    "       i.improved performance\n",
    "         ii.Resource sharing\n",
    "        \n",
    "        Disdvantages of Multitreading:- \n",
    "          i.Complexity\n",
    "            ii.Diffucult debugging"
   ]
  },
  {
   "cell_type": "markdown",
   "id": "5d66b8cd-742f-4740-bda5-cb77efb669a1",
   "metadata": {},
   "source": [
    "Q6.Explain deadlocks and race conditions."
   ]
  },
  {
   "cell_type": "code",
   "execution_count": null,
   "id": "20ec9d7a-e106-4dd4-86a8-601ef8474aed",
   "metadata": {},
   "outputs": [],
   "source": [
    "Ans:- Deadlock:\n",
    "               Deadlock is a situation in concurrent programming where two or more threads or \n",
    "                    processes are unable to proceed because each is waiting for the other to release a resource. \n",
    "        Race:-\n",
    "               A race condition occurs in concurrent programming when multiple threads or processes access shared \n",
    "                      data simultaneously, and the final outcome depends on the order of execution."
   ]
  },
  {
   "cell_type": "code",
   "execution_count": null,
   "id": "f209a1c2-97b5-4fbf-be91-58bdb7f88bde",
   "metadata": {},
   "outputs": [],
   "source": []
  }
 ],
 "metadata": {
  "kernelspec": {
   "display_name": "Python 3 (ipykernel)",
   "language": "python",
   "name": "python3"
  },
  "language_info": {
   "codemirror_mode": {
    "name": "ipython",
    "version": 3
   },
   "file_extension": ".py",
   "mimetype": "text/x-python",
   "name": "python",
   "nbconvert_exporter": "python",
   "pygments_lexer": "ipython3",
   "version": "3.10.8"
  }
 },
 "nbformat": 4,
 "nbformat_minor": 5
}
